{
 "cells": [
  {
   "cell_type": "markdown",
   "id": "f2d65d94",
   "metadata": {},
   "source": [
    "Подсчет символов в заданной строке:\n",
    "    "
   ]
  },
  {
   "cell_type": "code",
   "execution_count": 8,
   "id": "31d431f7",
   "metadata": {},
   "outputs": [
    {
     "name": "stdout",
     "output_type": "stream",
     "text": [
      "Input 122333444455555666666777777788888888999999999\n"
     ]
    },
    {
     "data": {
      "text/plain": [
       "'122333444455555666666777777788888888999999999'"
      ]
     },
     "execution_count": 8,
     "metadata": {},
     "output_type": "execute_result"
    }
   ],
   "source": [
    "#import pandas as pd\n",
    "#import sys\n",
    "dnc = input('Input ')\n",
    "dnc"
   ]
  },
  {
   "cell_type": "markdown",
   "id": "da92ea51",
   "metadata": {},
   "source": [
    "пишем цикл с условием для подсчета и вывода результата в виде строки"
   ]
  },
  {
   "cell_type": "code",
   "execution_count": 9,
   "id": "0c056bcc",
   "metadata": {},
   "outputs": [
    {
     "name": "stdout",
     "output_type": "stream",
     "text": [
      "112233445566778899\n"
     ]
    }
   ],
   "source": [
    "post = []\n",
    "count = 1\n",
    "for i in range(len(dnc)-1):\n",
    "    if dnc[i] == dnc[i+1]:\n",
    "        count += 1\n",
    "    else:\n",
    "        post.append(dnc[i])\n",
    "        post.append(count)\n",
    "        count = 1\n",
    "if dnc[-1] == dnc[-2]:\n",
    "    post.append(dnc[-2])\n",
    "    post.append(count)\n",
    "else:\n",
    "    post.append(dnc[-1])\n",
    "    post.append(1)\n",
    "print(\"\".join(map(str,post)))"
   ]
  }
 ],
 "metadata": {
  "kernelspec": {
   "display_name": "Python 3 (ipykernel)",
   "language": "python",
   "name": "python3"
  },
  "language_info": {
   "codemirror_mode": {
    "name": "ipython",
    "version": 3
   },
   "file_extension": ".py",
   "mimetype": "text/x-python",
   "name": "python",
   "nbconvert_exporter": "python",
   "pygments_lexer": "ipython3",
   "version": "3.9.12"
  }
 },
 "nbformat": 4,
 "nbformat_minor": 5
}
